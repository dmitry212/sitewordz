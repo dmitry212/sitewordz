{
 "cells": [
  {
   "cell_type": "code",
   "execution_count": 2,
   "id": "a6b41a2f-f6a0-422f-b342-3d0294846cec",
   "metadata": {},
   "outputs": [],
   "source": [
    "import sqlite3"
   ]
  },
  {
   "cell_type": "code",
   "execution_count": 3,
   "id": "4d3fbcb6-493d-47ae-bd95-84e931ffe0bc",
   "metadata": {},
   "outputs": [],
   "source": [
    "conn = sqlite3.connect('sitewordz.db')"
   ]
  },
  {
   "cell_type": "code",
   "execution_count": 4,
   "id": "4d6a720a-82f4-4918-8a45-8612c0679dd2",
   "metadata": {},
   "outputs": [],
   "source": [
    "cursor = conn.cursor()"
   ]
  },
  {
   "cell_type": "code",
   "execution_count": 5,
   "id": "eb15550f-97f1-4c27-9dc5-a3857b206b46",
   "metadata": {},
   "outputs": [
    {
     "data": {
      "text/plain": [
       "<sqlite3.Cursor at 0x11333f740>"
      ]
     },
     "execution_count": 5,
     "metadata": {},
     "output_type": "execute_result"
    }
   ],
   "source": [
    "cursor.execute(\"CREATE TABLE users (id INTEGER PRIMARY KEY, name TEXT, age INTEGER);\")\n",
    "\n"
   ]
  },
  {
   "cell_type": "code",
   "execution_count": 15,
   "id": "970c401c-e5b6-469d-a8d1-86b397b21f23",
   "metadata": {},
   "outputs": [
    {
     "data": {
      "text/plain": [
       "(1, 'BALEN', 6)"
      ]
     },
     "execution_count": 15,
     "metadata": {},
     "output_type": "execute_result"
    }
   ],
   "source": [
    "cursor.execute(\"INSERT INTO USERS (NAME, AGE) VALUES ('BALEN',6);\")\n",
    "res = cursor.execute(\"select * from users;\")\n",
    "res.fetchone()"
   ]
  },
  {
   "cell_type": "code",
   "execution_count": null,
   "id": "f9e25120-80ea-4c19-a0c1-10c766025bb7",
   "metadata": {},
   "outputs": [],
   "source": []
  }
 ],
 "metadata": {
  "kernelspec": {
   "display_name": "Python 3 (ipykernel)",
   "language": "python",
   "name": "python3"
  },
  "language_info": {
   "codemirror_mode": {
    "name": "ipython",
    "version": 3
   },
   "file_extension": ".py",
   "mimetype": "text/x-python",
   "name": "python",
   "nbconvert_exporter": "python",
   "pygments_lexer": "ipython3",
   "version": "3.11.5"
  }
 },
 "nbformat": 4,
 "nbformat_minor": 5
}
