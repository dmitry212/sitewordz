{
 "cells": [
  {
   "cell_type": "code",
   "execution_count": 2,
   "id": "a6b41a2f-f6a0-422f-b342-3d0294846cec",
   "metadata": {},
   "outputs": [],
   "source": [
    "import sqlite3\n",
    "conn = sqlite3.connect('sitewordz.db')\n",
    "cursor = conn.cursor()"
   ]
  },
  {
   "cell_type": "code",
   "execution_count": 24,
   "id": "01638400-f127-453a-912f-e54cbc5f27a3",
   "metadata": {},
   "outputs": [
    {
     "data": {
      "text/plain": [
       "<sqlite3.Cursor at 0x11333f740>"
      ]
     },
     "execution_count": 24,
     "metadata": {},
     "output_type": "execute_result"
    }
   ],
   "source": [
    "# cursor.execute(\"drop table users;\")"
   ]
  },
  {
   "cell_type": "code",
   "execution_count": 25,
   "id": "eb15550f-97f1-4c27-9dc5-a3857b206b46",
   "metadata": {},
   "outputs": [
    {
     "data": {
      "text/plain": [
       "<sqlite3.Cursor at 0x11333f740>"
      ]
     },
     "execution_count": 25,
     "metadata": {},
     "output_type": "execute_result"
    }
   ],
   "source": [
    "# User DDL\n",
    "cursor.execute(\"CREATE TABLE users (user_id INTEGER PRIMARY KEY, name TEXT, age INTEGER);\")\n"
   ]
  },
  {
   "cell_type": "code",
   "execution_count": 3,
   "id": "970c401c-e5b6-469d-a8d1-86b397b21f23",
   "metadata": {},
   "outputs": [
    {
     "data": {
      "text/plain": [
       "(1, 'BALEN', 6)"
      ]
     },
     "execution_count": 3,
     "metadata": {},
     "output_type": "execute_result"
    }
   ],
   "source": [
    "# user table\n",
    "cursor.execute(\"INSERT INTO USERS (NAME, AGE) VALUES ('BALEN',6);\")\n",
    "cursor.execute(\"Commit;\")\n",
    "res = cursor.execute(\"select * from users;\")\n",
    "res.fetchone()"
   ]
  },
  {
   "cell_type": "code",
   "execution_count": 23,
   "id": "cfa08ebe-9734-4db8-af11-8f22dfe3062b",
   "metadata": {},
   "outputs": [
    {
     "data": {
      "text/plain": [
       "<sqlite3.Cursor at 0x11333f740>"
      ]
     },
     "execution_count": 23,
     "metadata": {},
     "output_type": "execute_result"
    }
   ],
   "source": [
    "# session history\n",
    "\n",
    "cursor.execute(\"CREATE TABLE session_history (session_id INTEGER PRIMARY KEY AUTOINCREMENT, user_id INTEGER, session_dttm DATETIME, list_id INTEGER, score INTEGER);\")"
   ]
  },
  {
   "cell_type": "code",
   "execution_count": 28,
   "id": "27d27d27-6ae6-4e67-b601-29120de6975b",
   "metadata": {},
   "outputs": [
    {
     "data": {
      "text/plain": [
       "<sqlite3.Cursor at 0x11333f740>"
      ]
     },
     "execution_count": 28,
     "metadata": {},
     "output_type": "execute_result"
    }
   ],
   "source": [
    "# lists\n",
    "cursor.execute(\"CREATE TABLE site_lists (list_id INTEGER PRIMARY KEY AUTOINCREMENT, list_name TEXT, list varchar(500));\")"
   ]
  },
  {
   "cell_type": "code",
   "execution_count": null,
   "id": "1c78e30e-ea7b-4d07-8067-4a48483f1bee",
   "metadata": {},
   "outputs": [],
   "source": []
  },
  {
   "cell_type": "code",
   "execution_count": 29,
   "id": "f9e25120-80ea-4c19-a0c1-10c766025bb7",
   "metadata": {},
   "outputs": [],
   "source": [
    "conn.close()"
   ]
  },
  {
   "cell_type": "code",
   "execution_count": null,
   "id": "cc34d7bd-39d2-4fdc-8bae-7a21276433c4",
   "metadata": {},
   "outputs": [],
   "source": []
  }
 ],
 "metadata": {
  "kernelspec": {
   "display_name": "Python 3 (ipykernel)",
   "language": "python",
   "name": "python3"
  },
  "language_info": {
   "codemirror_mode": {
    "name": "ipython",
    "version": 3
   },
   "file_extension": ".py",
   "mimetype": "text/x-python",
   "name": "python",
   "nbconvert_exporter": "python",
   "pygments_lexer": "ipython3",
   "version": "3.11.6"
  }
 },
 "nbformat": 4,
 "nbformat_minor": 5
}
